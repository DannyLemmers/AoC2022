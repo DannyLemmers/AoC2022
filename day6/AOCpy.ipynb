{
 "cells": [
  {
   "cell_type": "code",
   "execution_count": 37,
   "metadata": {},
   "outputs": [],
   "source": [
    "import time\n",
    "import re\n",
    "inputstring = open('input.txt', 'r').read().splitlines()\n",
    "teststring = open('test.txt', 'r').read().splitlines()"
   ]
  },
  {
   "cell_type": "code",
   "execution_count": 171,
   "metadata": {},
   "outputs": [
    {
     "name": "stdout",
     "output_type": "stream",
     "text": [
      "Start marker at 1647\n",
      "Message marker at 2447\n",
      "3.0370000004040776\n"
     ]
    }
   ],
   "source": [
    "start = time.perf_counter()  \n",
    "startFound = 0\n",
    "messageFound = 0\n",
    "for i in range(4, len(inputstring[0])):\n",
    "    if len(set(inputstring[0][i-4:i])) == 4 and startFound == 0:\n",
    "        print(\"Start marker at \" + str(i))\n",
    "        startFound = 1\n",
    "    if len(set(inputstring[0][i-14:i])) == 14 and messageFound == 0:\n",
    "        print(\"Message marker at \" + str(i))\n",
    "        messageFound = 1\n",
    "        break\n",
    "    \n",
    "end = time.perf_counter()\n",
    "print((end-start)*1000)"
   ]
  },
  {
   "cell_type": "code",
   "execution_count": null,
   "metadata": {},
   "outputs": [],
   "source": []
  }
 ],
 "metadata": {
  "kernelspec": {
   "display_name": "Python 3",
   "language": "python",
   "name": "python3"
  },
  "language_info": {
   "codemirror_mode": {
    "name": "ipython",
    "version": 3
   },
   "file_extension": ".py",
   "mimetype": "text/x-python",
   "name": "python",
   "nbconvert_exporter": "python",
   "pygments_lexer": "ipython3",
   "version": "3.7.4"
  }
 },
 "nbformat": 4,
 "nbformat_minor": 2
}

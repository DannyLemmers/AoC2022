{
 "cells": [
  {
   "cell_type": "code",
   "execution_count": 13,
   "metadata": {
    "scrolled": true
   },
   "outputs": [],
   "source": [
    "using System.Diagnostics;"
   ]
  },
  {
   "cell_type": "code",
   "execution_count": 15,
   "metadata": {},
   "outputs": [
    {
     "name": "stdout",
     "output_type": "stream",
     "text": [
      "72017\n",
      "212520\n",
      "0.1735\n"
     ]
    }
   ],
   "source": [
    "\n",
    "string[] lines = System.IO.File.ReadAllLines(\"input.txt\");\n",
    "\n",
    "Stopwatch stopwatch = Stopwatch.StartNew();\n",
    "\n",
    "int tempval = 0;\n",
    "List<int> elves = new List<int>();\n",
    "\n",
    "\n",
    "foreach(string lines in lines){\n",
    "    if (lines.Length >0){\n",
    "        tempval += int.Parse(lines);\n",
    "    }\n",
    "    else {\n",
    "        elves.Add(tempval);\n",
    "        tempval = 0;\n",
    "    }\n",
    "}\n",
    "\n",
    "elves.Sort();\n",
    "elves.Reverse();\n",
    "x--;\n",
    "\n",
    "Console.WriteLine(elves[0]);\n",
    "Console.WriteLine(elves[0]+elves[1]+elves[2]);\n",
    "\n",
    "stopwatch.Stop();\n",
    "Console.WriteLine(stopwatch.Elapsed.TotalMilliseconds);\n"
   ]
  },
  {
   "cell_type": "code",
   "execution_count": null,
   "metadata": {},
   "outputs": [],
   "source": []
  }
 ],
 "metadata": {
  "kernelspec": {
   "display_name": ".NET (C#)",
   "language": "C#",
   "name": ".net-csharp"
  },
  "language_info": {
   "file_extension": ".cs",
   "mimetype": "text/x-csharp",
   "name": "C#",
   "pygments_lexer": "csharp",
   "version": "10.0"
  }
 },
 "nbformat": 4,
 "nbformat_minor": 2
}

{
 "cells": [
  {
   "cell_type": "code",
   "execution_count": 7,
   "metadata": {},
   "outputs": [],
   "source": [
    "import time"
   ]
  },
  {
   "cell_type": "code",
   "execution_count": 8,
   "metadata": {},
   "outputs": [
    {
     "name": "stdout",
     "output_type": "stream",
     "text": [
      "72017\n",
      "212520\n",
      "1.3275000001158332\n"
     ]
    }
   ],
   "source": [
    "def foodperElf(data):\n",
    "    elf = []\n",
    "    tempcal = 0\n",
    "    for cal in data:\n",
    "        cal = cal.rstrip('\\n')\n",
    "        if (len(cal)):\n",
    "            tempcal = tempcal + int(cal)\n",
    "        else:\n",
    "            elf.append(tempcal)\n",
    "            tempcal = 0\n",
    "    return(elf)\n",
    "\n",
    "with open('input.txt') as f:\n",
    "    inputdata = f.readlines()  \n",
    "start = time.perf_counter()    \n",
    "elf = foodperElf(inputdata)    \n",
    "elf.sort(reverse = True)\n",
    "\n",
    "print(elf[0])\n",
    "print(sum(elf[0:3]))   \n",
    "\n",
    "\n",
    "end = time.perf_counter()\n",
    "print((end-start)*1000)"
   ]
  },
  {
   "cell_type": "code",
   "execution_count": 24,
   "metadata": {},
   "outputs": [
    {
     "name": "stdout",
     "output_type": "stream",
     "text": [
      "72017\n",
      "212520\n",
      "2.010799999993651\n"
     ]
    }
   ],
   "source": [
    "start = time.perf_counter()\n",
    "input = open('input.txt', 'r').read().splitlines()\n",
    "\n",
    "elfs = [0]\n",
    "i_elf = 0\n",
    "\n",
    "for line in input:\n",
    "    if line == '':\n",
    "       i_elf += 1\n",
    "       elfs.append(0)\n",
    "    else:\n",
    "        elfs[i_elf] += int(line)\n",
    "\n",
    "elfs.sort(reverse=True)\n",
    "\n",
    "print(elfs[0])\n",
    "print(elfs[0] + elfs[1] + elfs[2] )\n",
    "\n",
    "end = time.perf_counter()\n",
    "print((end-start)*1000)"
   ]
  },
  {
   "cell_type": "code",
   "execution_count": null,
   "metadata": {},
   "outputs": [],
   "source": []
  },
  {
   "cell_type": "code",
   "execution_count": null,
   "metadata": {},
   "outputs": [],
   "source": []
  }
 ],
 "metadata": {
  "kernelspec": {
   "display_name": "Python 3",
   "language": "python",
   "name": "python3"
  },
  "language_info": {
   "codemirror_mode": {
    "name": "ipython",
    "version": 3
   },
   "file_extension": ".py",
   "mimetype": "text/x-python",
   "name": "python",
   "nbconvert_exporter": "python",
   "pygments_lexer": "ipython3",
   "version": "3.7.4"
  }
 },
 "nbformat": 4,
 "nbformat_minor": 2
}

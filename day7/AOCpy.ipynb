{
 "cells": [
  {
   "cell_type": "code",
   "execution_count": 1,
   "metadata": {},
   "outputs": [],
   "source": [
    "import time\n",
    "import re\n",
    "inputstring = open('input.txt', 'r').read().splitlines()\n",
    "teststring = open('test.txt', 'r').read().splitlines()"
   ]
  },
  {
   "cell_type": "code",
   "execution_count": 178,
   "metadata": {},
   "outputs": [
    {
     "name": "stdout",
     "output_type": "stream",
     "text": [
      "Question A: \n",
      "1444896\n",
      "\n",
      "Question B: \n",
      "404395\n",
      "1.460899999983667\n"
     ]
    }
   ],
   "source": [
    "start = time.perf_counter()  \n",
    "\n",
    "directory = []\n",
    "directorySize = {}\n",
    "for lines in inputstring:\n",
    "    inst = lines.split()\n",
    "\n",
    "    if inst[0] == \"$\":\n",
    "        if inst[1] == \"cd\":\n",
    "            if inst[2] == \"..\":\n",
    "                directory = directory[:-1]\n",
    "            else:\n",
    "                directory.append(inst[2])\n",
    "                \n",
    "    elif inst[0].isnumeric():\n",
    "        folder = \"\"\n",
    "        size = int(inst[0])\n",
    "        for thisfolder in directory:\n",
    "            folder+= thisfolder\n",
    "            directorySize[folder] = directorySize.get(folder, 0) + size \n",
    "            \n",
    "    elif inst[0] == \"dir\":\n",
    "        continue\n",
    "        \n",
    "    else:\n",
    "        print(\"Unexpected input command with \" + inst[0])\n",
    "print(\"Question A: \\n\" + str(sum(value for name, value in directorySize.items() if value < 100000)) + \"\\n\")        \n",
    "\n",
    "available = 70000000\n",
    "updateSize = 30000000\n",
    "sizeNeeded = abs(available - directorySize[\"/\"]-updateSize)\n",
    "print(\"Question B: \\n\" + str(min(value for name, value in directorySize.items() if value >= sizeNeeded)))\n",
    "\n",
    "end = time.perf_counter()\n",
    "print((end-start)*1000)"
   ]
  },
  {
   "cell_type": "code",
   "execution_count": null,
   "metadata": {},
   "outputs": [],
   "source": []
  },
  {
   "cell_type": "code",
   "execution_count": null,
   "metadata": {},
   "outputs": [],
   "source": []
  }
 ],
 "metadata": {
  "kernelspec": {
   "display_name": "Python 3",
   "language": "python",
   "name": "python3"
  },
  "language_info": {
   "codemirror_mode": {
    "name": "ipython",
    "version": 3
   },
   "file_extension": ".py",
   "mimetype": "text/x-python",
   "name": "python",
   "nbconvert_exporter": "python",
   "pygments_lexer": "ipython3",
   "version": "3.7.4"
  }
 },
 "nbformat": 4,
 "nbformat_minor": 2
}

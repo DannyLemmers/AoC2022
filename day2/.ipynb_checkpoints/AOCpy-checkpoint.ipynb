{
 "cells": [
  {
   "cell_type": "code",
   "execution_count": 302,
   "metadata": {},
   "outputs": [],
   "source": [
    "import time"
   ]
  },
  {
   "cell_type": "code",
   "execution_count": 303,
   "metadata": {},
   "outputs": [
    {
     "name": "stdout",
     "output_type": "stream",
     "text": [
      "15572 16098\n",
      "5.044300000008661\n"
     ]
    }
   ],
   "source": [
    "inputstring = open('input.txt', 'r').read().splitlines()\n",
    "\n",
    "start = time.perf_counter() \n",
    "\n",
    "win = 6\n",
    "draw = 3\n",
    "loss = 0\n",
    "\n",
    "score = []\n",
    "rollval = [1, 2 ,3]\n",
    "scoreB = [] \n",
    "for string in inputstring:\n",
    "    flatval = ord(string[2])-64-23\n",
    "    scoreval = (ord(string[0])-(ord(string[2])-23))\n",
    "    if (scoreval == -1 or scoreval == 2):\n",
    "        score.append(win + flatval)\n",
    "    elif scoreval == 0:\n",
    "        score.append(draw + flatval)\n",
    "    else:\n",
    "        score.append(loss + flatval)   \n",
    "    scoreB.append(((ord(string[2])-64-24)*3)+rollval[(ord(string[0])-64-1+(ord(string[2])-89))%3])\n",
    "    #score is winscore + value of the roll given (+) if we need to win/draw/lose\n",
    "print(sum(score), sum(scoreB))\n",
    "\n",
    "end = time.perf_counter()\n",
    "print((end-start)*1000)"
   ]
  },
  {
   "cell_type": "code",
   "execution_count": null,
   "metadata": {},
   "outputs": [],
   "source": []
  }
 ],
 "metadata": {
  "kernelspec": {
   "display_name": "Python 3",
   "language": "python",
   "name": "python3"
  },
  "language_info": {
   "codemirror_mode": {
    "name": "ipython",
    "version": 3
   },
   "file_extension": ".py",
   "mimetype": "text/x-python",
   "name": "python",
   "nbconvert_exporter": "python",
   "pygments_lexer": "ipython3",
   "version": "3.7.4"
  }
 },
 "nbformat": 4,
 "nbformat_minor": 2
}

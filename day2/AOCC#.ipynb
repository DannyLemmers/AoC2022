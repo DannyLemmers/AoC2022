{
 "cells": [
  {
   "cell_type": "code",
   "execution_count": 62,
   "metadata": {},
   "outputs": [],
   "source": [
    "using System.Diagnostics;"
   ]
  },
  {
   "cell_type": "code",
   "execution_count": 67,
   "metadata": {},
   "outputs": [
    {
     "name": "stdout",
     "output_type": "stream",
     "text": [
      "15572,  15733\n",
      "0.2071\n"
     ]
    }
   ],
   "source": [
    "string[] lines = System.IO.File.ReadAllLines(\"input.txt\");\n",
    "\n",
    "Stopwatch stopwatch = Stopwatch.StartNew();\n",
    "\n",
    "List<int> score = new List<int>();\n",
    "List<int> scoreB = new List<int>();\n",
    "int[] moveval = {1, 2, 3};\n",
    "foreach(string lines in lines)\n",
    "{\n",
    "    int flatval = (int)lines[2]-87;\n",
    "    int scoreval = (int)lines[0]-((int)lines[2]-23);\n",
    "    if (scoreval == -1 || scoreval == 2)\n",
    "    {\n",
    "        score.Add(6+flatval);\n",
    "    }\n",
    "    else if(scoreval == 0)\n",
    "    {\n",
    "    score.Add(3+flatval);\n",
    "    }\n",
    "    else \n",
    "    {\n",
    "    score.Add(flatval);\n",
    "    }\n",
    "    scoreB.Add( ((int)lines[2]-88)*3+moveval[Math.Abs((int)lines[0]-65+(int)lines[2]-89)%3]);\n",
    "}\n",
    "\n",
    "Console.WriteLine(\"{0},  {1}\", score.Sum(), scoreB.Sum());\n",
    "\n",
    "stopwatch.Stop();\n",
    "Console.WriteLine(stopwatch.Elapsed.TotalMilliseconds);"
   ]
  },
  {
   "cell_type": "code",
   "execution_count": null,
   "metadata": {},
   "outputs": [],
   "source": []
  }
 ],
 "metadata": {
  "kernelspec": {
   "display_name": ".NET (C#)",
   "language": "C#",
   "name": ".net-csharp"
  },
  "language_info": {
   "file_extension": ".cs",
   "mimetype": "text/x-csharp",
   "name": "C#",
   "pygments_lexer": "csharp",
   "version": "10.0"
  }
 },
 "nbformat": 4,
 "nbformat_minor": 2
}

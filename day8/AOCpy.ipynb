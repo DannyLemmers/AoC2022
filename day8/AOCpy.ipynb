{
 "cells": [
  {
   "cell_type": "code",
   "execution_count": 366,
   "metadata": {},
   "outputs": [],
   "source": [
    "import time\n",
    "import re\n",
    "import numpy as np\n",
    "with open(\"input.txt\") as file:\n",
    "    string = np.array([[int(c) for c in line.strip()] for line in file])\n",
    "teststring_raw = open('test.txt', 'r').read().splitlines()\n"
   ]
  },
  {
   "cell_type": "code",
   "execution_count": 538,
   "metadata": {},
   "outputs": [
    {
     "name": "stdout",
     "output_type": "stream",
     "text": [
      "1690\n",
      "535680\n",
      "177.83799999961047\n"
     ]
    }
   ],
   "source": [
    "start = time.perf_counter()  \n",
    "\n",
    "#numbers = []\n",
    "#for i in inputstring_raw:\n",
    "#    listNumbers = [eval(j) for j in re.findall(\".\", i)]\n",
    "#    numbers.append(listNumbers)\n",
    "#    \n",
    "#string = np.array(numbers)\n",
    "count = 0\n",
    "rows = len(string)-1\n",
    "columns =  len(string[0])-1\n",
    "scenicscore =[]\n",
    "\n",
    "for i in range(1, rows):\n",
    "    for j in range(1, columns):\n",
    "        treeSizes = [np.max(string[0:i,j]), np.max(string[i+1:columns+1,j]), np.max(string[i,0:j]), np.max(string[i,j+1:rows+1])]\n",
    "        thisTreeSize = string[i][j]\n",
    "        \n",
    "        if any(treeSize < thisTreeSize for treeSize in treeSizes):\n",
    "            scenicval = [0, 0, 0, 0]\n",
    "            \n",
    "            for k in np.flip(string[0:i,j])<thisTreeSize:\n",
    "                scenicval[0] += 1\n",
    "                if k == False: \n",
    "                    break      \n",
    "            \n",
    "            for k in string[i+1:columns+1,j]<thisTreeSize:\n",
    "                scenicval[3] += 1\n",
    "                if k == False:\n",
    "                    break\n",
    "                    \n",
    "            for k in np.flip(string[i,0:j])<thisTreeSize:\n",
    "                scenicval[1] += 1\n",
    "                if k == False:\n",
    "                    break   \n",
    "                    \n",
    "            for k in string[i,j+1:rows+1]<thisTreeSize:\n",
    "                scenicval[2] += 1\n",
    "                if k == False:\n",
    "                    break\n",
    "                    \n",
    "            #print(string[0:i,j]<thisTreeSize)\n",
    "            value = scenicval[0]\n",
    "            for k in range(1, 4):          \n",
    "                value = value*scenicval[k]\n",
    "            scenicscore.append(value)\n",
    "            count +=1\n",
    "\n",
    "TreeOffset = 2*len(string)+2*len(string[0])-4\n",
    "\n",
    "count = count+TreeOffset\n",
    "print(count)\n",
    "print(max(scenicscore))\n",
    "\n",
    "end = time.perf_counter()\n",
    "print((end-start)*1000)"
   ]
  },
  {
   "cell_type": "code",
   "execution_count": 575,
   "metadata": {},
   "outputs": [
    {
     "name": "stdout",
     "output_type": "stream",
     "text": [
      "1688\n",
      "535680\n",
      "109.622699999818\n"
     ]
    }
   ],
   "source": [
    "start = time.perf_counter()  \n",
    "\n",
    "#numbers = []\n",
    "#for i in inputstring_raw:\n",
    "#    listNumbers = [eval(j) for j in re.findall(\".\", i)]\n",
    "#    numbers.append(listNumbers)\n",
    "#    \n",
    "#string = np.array(numbers)\n",
    "count = 0\n",
    "rows = len(string)-1\n",
    "columns =  len(string[0])-1\n",
    "scenicscore =[]\n",
    "\n",
    "for i in range(1, rows):\n",
    "    for j in range(1, columns):\n",
    "        thisTreeSize = string[i][j]\n",
    "        \n",
    "        if all(treeSize < thisTreeSize for treeSize in string[0:i,j]) or all(treeSize < thisTreeSize for treeSize in string[i+1:columns+1,j]) or all(treeSize < thisTreeSize for treeSize in string[i,0:j]) or all(treeSize < thisTreeSize for treeSize in string[i,j+1:rows+1]):\n",
    "            scenicval = [0, 0, 0, 0]\n",
    "            trues = any(np.flip(string[0:i,j])<thisTreeSize)\n",
    "            if trues == 1:\n",
    "                values = 1\n",
    "            elif trues == 0:\n",
    "                continue\n",
    "            elif sum(trues) > 1:\n",
    "                values = sum(trues)\n",
    "            for k in np.flip(string[0:i,j])<thisTreeSize:\n",
    "                scenicval[0] += 1\n",
    "                if k == False: \n",
    "                    break      \n",
    "            \n",
    "            for k in string[i+1:columns+1,j]<thisTreeSize:\n",
    "                scenicval[3] += 1\n",
    "                if k == False:\n",
    "                    break\n",
    "                    \n",
    "            for k in np.flip(string[i,0:j])<thisTreeSize:\n",
    "                scenicval[1] += 1\n",
    "                if k == False:\n",
    "                    break   \n",
    "                    \n",
    "            for k in string[i,j+1:rows+1]<thisTreeSize:\n",
    "                scenicval[2] += 1\n",
    "                if k == False:\n",
    "                    break\n",
    "                    \n",
    "            #print(string[0:i,j]<thisTreeSize)\n",
    "            value = scenicval[0]\n",
    "            for k in range(1, 4):          \n",
    "                value = value*scenicval[k]\n",
    "            scenicscore.append(value)\n",
    "            count +=1\n",
    "\n",
    "TreeOffset = 2*len(string)+2*len(string[0])-4\n",
    "\n",
    "count = count+TreeOffset\n",
    "print(count)\n",
    "print(max(scenicscore))\n",
    "\n",
    "end = time.perf_counter()\n",
    "print((end-start)*1000)"
   ]
  },
  {
   "cell_type": "code",
   "execution_count": 573,
   "metadata": {},
   "outputs": [
    {
     "data": {
      "text/plain": [
       "1"
      ]
     },
     "execution_count": 573,
     "metadata": {},
     "output_type": "execute_result"
    }
   ],
   "source": [
    "values"
   ]
  },
  {
   "cell_type": "code",
   "execution_count": 564,
   "metadata": {},
   "outputs": [
    {
     "name": "stdout",
     "output_type": "stream",
     "text": [
      "1690\n",
      "77.71170000160055\n"
     ]
    }
   ],
   "source": [
    "start = time.perf_counter()  \n",
    "\n",
    "count = 0\n",
    "rows = len(string)-1\n",
    "columns =  len(string[0])-1\n",
    "scenicscore =[]\n",
    "\n",
    "for i in range(1, rows):\n",
    "    for j in range(1, columns):\n",
    "\n",
    "        thisTreeSize = string[i][j]\n",
    "        \n",
    "        if all(treeSize < thisTreeSize for treeSize in string[0:i,j]):\n",
    "            count +=1\n",
    "        elif  all(treeSize < thisTreeSize for treeSize in string[i+1:columns+1,j]):\n",
    "            count +=1\n",
    "        elif all(treeSize < thisTreeSize for treeSize in string[i,0:j]):\n",
    "            count +=1\n",
    "        elif all(treeSize < thisTreeSize for treeSize in string[i,j+1:rows+1]):\n",
    "            count +=1\n",
    "\n",
    "TreeOffset = 2*len(string)+2*len(string[0])-4\n",
    "\n",
    "count = count+TreeOffset\n",
    "print(count)\n",
    "\n",
    "\n",
    "end = time.perf_counter()\n",
    "print((end-start)*1000)"
   ]
  },
  {
   "cell_type": "code",
   "execution_count": 571,
   "metadata": {},
   "outputs": [
    {
     "name": "stdout",
     "output_type": "stream",
     "text": [
      "1690\n",
      "60.517100000652135\n"
     ]
    }
   ],
   "source": [
    "start = time.perf_counter()  \n",
    "\n",
    "#numbers = []\n",
    "#for i in inputstring_raw:\n",
    "#    listNumbers = [eval(j) for j in re.findall(\".\", i)]\n",
    "#    numbers.append(listNumbers)\n",
    "#    \n",
    "#string = np.array(numbers)\n",
    "count = 0\n",
    "rows = len(string)-1\n",
    "columns =  len(string[0])-1\n",
    "scenicscore =[]\n",
    "\n",
    "for i in range(1, rows):\n",
    "    for j in range(1, columns):\n",
    "        thisTreeSize = string[i][j]\n",
    "        \n",
    "        if all(treeSize < thisTreeSize for treeSize in string[0:i,j]) or all(treeSize < thisTreeSize for treeSize in string[i+1:columns+1,j]) or all(treeSize < thisTreeSize for treeSize in string[i,0:j]) or all(treeSize < thisTreeSize for treeSize in string[i,j+1:rows+1]):\n",
    "                   \n",
    "            #print(string[0:i,j]<thisTreeSize)\n",
    "            count +=1\n",
    "\n",
    "TreeOffset = 2*len(string)+2*len(string[0])-4\n",
    "\n",
    "count = count+TreeOffset\n",
    "print(count)\n",
    "\n",
    "\n",
    "end = time.perf_counter()\n",
    "print((end-start)*1000)"
   ]
  },
  {
   "cell_type": "code",
   "execution_count": null,
   "metadata": {},
   "outputs": [],
   "source": []
  }
 ],
 "metadata": {
  "kernelspec": {
   "display_name": "Python 3",
   "language": "python",
   "name": "python3"
  },
  "language_info": {
   "codemirror_mode": {
    "name": "ipython",
    "version": 3
   },
   "file_extension": ".py",
   "mimetype": "text/x-python",
   "name": "python",
   "nbconvert_exporter": "python",
   "pygments_lexer": "ipython3",
   "version": "3.7.4"
  }
 },
 "nbformat": 4,
 "nbformat_minor": 2
}

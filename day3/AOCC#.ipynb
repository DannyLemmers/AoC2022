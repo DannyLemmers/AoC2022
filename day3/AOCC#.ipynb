{
 "cells": [
  {
   "cell_type": "code",
   "execution_count": 2,
   "metadata": {},
   "outputs": [],
   "source": [
    "using System.Diagnostics;\n",
    "using System.Linq;\n",
    "\n",
    "string[] lines = System.IO.File.ReadAllLines(\"input.txt\");\n",
    "string[] test = System.IO.File.ReadAllLines(\"test.txt\");"
   ]
  },
  {
   "cell_type": "code",
   "execution_count": 3,
   "metadata": {},
   "outputs": [
    {
     "name": "stdout",
     "output_type": "stream",
     "text": [
      "7824\n",
      "2798\n",
      "4.3025\n"
     ]
    }
   ],
   "source": [
    "Stopwatch stopwatch = Stopwatch.StartNew();\n",
    "\n",
    "List<int> order =  new List<int>();\n",
    "foreach(string lines in lines){\n",
    "    string rucksack1 = lines.Substring(0, lines.Length/2);\n",
    "    \n",
    "    string temp = \"\";\n",
    "    temp += rucksack1[0];\n",
    " \n",
    "    for (int i = 1; i < rucksack1.Length; i++) {\n",
    "      if (temp.IndexOf(rucksack1[i]) == -1){\n",
    "        temp = temp + rucksack1[i];\n",
    "        }\n",
    "    }\n",
    "    rucksack1 = temp;\n",
    "    \n",
    "    string rucksack2 = lines.Substring(lines.Length/2, lines.Length/2);\n",
    "    \n",
    "    temp = \"\";\n",
    "    temp += rucksack2[0];\n",
    " \n",
    "    for (int i = 1; i < rucksack2.Length; i++) {\n",
    "      if (temp.IndexOf(rucksack2[i]) == -1){\n",
    "        temp = temp + rucksack2[i];\n",
    "        }\n",
    "    }\n",
    "    \n",
    "        rucksack2 = temp;\n",
    "    \n",
    "    foreach(char letter in rucksack1){\n",
    "        foreach(char letter2 in rucksack2){\n",
    "            if (letter == letter2){\n",
    "                int number = (int)letter;\n",
    "                if (number > 96){\n",
    "                    order.Add((int)letter-96);\n",
    "                }\n",
    "                else{\n",
    "                    order.Add((int)letter-38);\n",
    "                }\n",
    "                \n",
    "            }\n",
    "        }      \n",
    "    }\n",
    "}\n",
    "\n",
    "List<int> badge = new List<int>();\n",
    "for (int i = 0; i < lines.Length; i +=3){\n",
    "    string string1 = lines[i];\n",
    "    string string2 = lines[i+1];\n",
    "    string string3 = lines[i+2];\n",
    "    \n",
    "    var common1 = string1.Intersect(string2);\n",
    "    var common2 = string1.Intersect(string3);\n",
    "    int common = (int)common1.Intersect(common2).ToList()[0];\n",
    "    if (common > 96){\n",
    "        badge.Add((int)common-96);\n",
    "    }\n",
    "    else{\n",
    "        badge.Add((int)common-38);\n",
    "    }\n",
    "}\n",
    "\n",
    "Console.WriteLine(order.Sum());\n",
    "Console.WriteLine(badge.Sum());\n",
    "\n",
    "stopwatch.Stop();\n",
    "Console.WriteLine(stopwatch.Elapsed.TotalMilliseconds);\n"
   ]
  },
  {
   "cell_type": "code",
   "execution_count": 161,
   "metadata": {},
   "outputs": [
    {
     "name": "stdout",
     "output_type": "stream",
     "text": [
      "7824\n",
      "2798\n",
      "0.5454\n"
     ]
    }
   ],
   "source": [
    "Stopwatch stopwatch = Stopwatch.StartNew();\n",
    "\n",
    "List<int> order =  new List<int>();\n",
    "foreach(string lines in lines){\n",
    "    string rucksack1 = lines.Substring(0, lines.Length/2);\n",
    "    string rucksack2 = lines.Substring(lines.Length/2, lines.Length/2);\n",
    "    int number = rucksack1.Intersect(rucksack2).First();\n",
    "    if (number > 96){\n",
    "        order.Add(number-96);\n",
    "    }\n",
    "    else{\n",
    "        order.Add(number-38);\n",
    "        }\n",
    "}\n",
    "\n",
    "List<int> badge = new List<int>();\n",
    "for (int i = 0; i < lines.Length; i +=3){\n",
    "    string string1 = lines[i];\n",
    "    string string2 = lines[i+1];\n",
    "    string string3 = lines[i+2];\n",
    "    \n",
    "    int common = string1.Intersect(string2).Intersect(string3).First();\n",
    "    if (common > 96){\n",
    "        badge.Add((int)common-96);\n",
    "    }\n",
    "    else{\n",
    "        badge.Add((int)common-38);\n",
    "    }\n",
    "}\n",
    "Console.WriteLine(order.Sum());\n",
    "Console.WriteLine(badge.Sum());\n",
    "\n",
    "stopwatch.Stop();\n",
    "Console.WriteLine(stopwatch.Elapsed.TotalMilliseconds);\n"
   ]
  },
  {
   "cell_type": "code",
   "execution_count": null,
   "metadata": {},
   "outputs": [],
   "source": []
  }
 ],
 "metadata": {
  "kernelspec": {
   "display_name": ".NET (C#)",
   "language": "C#",
   "name": ".net-csharp"
  },
  "language_info": {
   "file_extension": ".cs",
   "mimetype": "text/x-csharp",
   "name": "C#",
   "pygments_lexer": "csharp",
   "version": "10.0"
  }
 },
 "nbformat": 4,
 "nbformat_minor": 2
}
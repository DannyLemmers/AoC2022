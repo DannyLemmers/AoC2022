{
 "cells": [
  {
   "cell_type": "code",
   "execution_count": 99,
   "metadata": {},
   "outputs": [],
   "source": [
    "import time\n",
    "inputstring = open('input.txt', 'r').read().splitlines()\n",
    "teststring = open('test.txt', 'r').read().splitlines()"
   ]
  },
  {
   "cell_type": "code",
   "execution_count": 125,
   "metadata": {},
   "outputs": [
    {
     "name": "stdout",
     "output_type": "stream",
     "text": [
      "2798\n",
      "7824\n",
      "5.7884999996531405\n"
     ]
    }
   ],
   "source": [
    "start = time.perf_counter() \n",
    "\n",
    "items = []\n",
    "for string in inputstring:\n",
    "    rucksack1 = slice(0, len(string)//2)\n",
    "    rucksack2 = slice(len(string)//2, len(string))\n",
    "    for i in set(string[rucksack1]):\n",
    "        for j in set(string[rucksack2]):\n",
    "            if i == j:\n",
    "                if ord(j) >96:\n",
    "                    items.append(ord(j)-96)\n",
    "                else:\n",
    "                    items.append(ord(j)-38)\n",
    "                break\n",
    "badge = []\n",
    "for i in range(0,len(inputstring), 3):\n",
    "    string1 = set(inputstring[i])\n",
    "    string2 = set(inputstring[i+1])\n",
    "    string3 = set(inputstring[i+2])\n",
    "    strings = [string1, string2, string3]\n",
    "    common = set.intersection(*map(set,strings))\n",
    "    if ord(repr(common)[2]) >96:\n",
    "        badge.append(ord(repr(common)[2])-96)\n",
    "    else:\n",
    "        badge.append(ord(repr(common)[2])-38)\n",
    "    \n",
    "print(sum(badge))\n",
    "    \n",
    "print(sum(items))\n",
    "\n",
    "end = time.perf_counter()\n",
    "print((end-start)*1000)"
   ]
  },
  {
   "cell_type": "code",
   "execution_count": null,
   "metadata": {},
   "outputs": [],
   "source": []
  }
 ],
 "metadata": {
  "kernelspec": {
   "display_name": "Python 3",
   "language": "python",
   "name": "python3"
  },
  "language_info": {
   "codemirror_mode": {
    "name": "ipython",
    "version": 3
   },
   "file_extension": ".py",
   "mimetype": "text/x-python",
   "name": "python",
   "nbconvert_exporter": "python",
   "pygments_lexer": "ipython3",
   "version": "3.7.4"
  }
 },
 "nbformat": 4,
 "nbformat_minor": 2
}

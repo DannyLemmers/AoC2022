{
 "cells": [
  {
   "cell_type": "code",
   "execution_count": 2,
   "metadata": {},
   "outputs": [],
   "source": [
    "import time\n",
    "import re\n",
    "inputstring = open('input.txt', 'r').read().splitlines()\n",
    "teststring = open('test.txt', 'r').read().splitlines()"
   ]
  },
  {
   "cell_type": "code",
   "execution_count": 135,
   "metadata": {},
   "outputs": [
    {
     "name": "stdout",
     "output_type": "stream",
     "text": [
      "2958250776520\n",
      "Answer A: \n",
      "T\n",
      "B\n",
      "V\n",
      "F\n",
      "V\n",
      "D\n",
      "Z\n",
      "P\n",
      "N\n",
      "2958251359432\n"
     ]
    },
    {
     "ename": "IndexError",
     "evalue": "pop from empty list",
     "output_type": "error",
     "traceback": [
      "\u001b[1;31m---------------------------------------------------------------------------\u001b[0m",
      "\u001b[1;31mIndexError\u001b[0m                                Traceback (most recent call last)",
      "\u001b[1;32m<ipython-input-135-aca85f84a9b6>\u001b[0m in \u001b[0;36m<module>\u001b[1;34m\u001b[0m\n\u001b[0;32m     45\u001b[0m         \u001b[0mcargob\u001b[0m\u001b[1;33m[\u001b[0m\u001b[0mcargoTo\u001b[0m\u001b[1;33m]\u001b[0m\u001b[1;33m.\u001b[0m\u001b[0mappend\u001b[0m\u001b[1;33m(\u001b[0m\u001b[0mcargob\u001b[0m\u001b[1;33m[\u001b[0m\u001b[0mcargoFrom\u001b[0m\u001b[1;33m]\u001b[0m\u001b[1;33m[\u001b[0m\u001b[0mj\u001b[0m\u001b[1;33m]\u001b[0m\u001b[1;33m)\u001b[0m\u001b[1;33m\u001b[0m\u001b[1;33m\u001b[0m\u001b[0m\n\u001b[0;32m     46\u001b[0m     \u001b[1;32mfor\u001b[0m \u001b[0mj\u001b[0m \u001b[1;32min\u001b[0m \u001b[0mvaluesToPick\u001b[0m\u001b[1;33m:\u001b[0m\u001b[1;33m\u001b[0m\u001b[1;33m\u001b[0m\u001b[0m\n\u001b[1;32m---> 47\u001b[1;33m         \u001b[0mcargob\u001b[0m\u001b[1;33m[\u001b[0m\u001b[0mcargoFrom\u001b[0m\u001b[1;33m]\u001b[0m\u001b[1;33m.\u001b[0m\u001b[0mpop\u001b[0m\u001b[1;33m(\u001b[0m\u001b[0mj\u001b[0m\u001b[1;33m-\u001b[0m\u001b[0moffset\u001b[0m\u001b[1;33m)\u001b[0m\u001b[1;33m\u001b[0m\u001b[1;33m\u001b[0m\u001b[0m\n\u001b[0m\u001b[0;32m     48\u001b[0m         \u001b[0moffset\u001b[0m \u001b[1;33m=\u001b[0m \u001b[0moffset\u001b[0m \u001b[1;33m+\u001b[0m\u001b[1;36m1\u001b[0m\u001b[1;33m\u001b[0m\u001b[1;33m\u001b[0m\u001b[0m\n\u001b[0;32m     49\u001b[0m \u001b[0mprint\u001b[0m\u001b[1;33m(\u001b[0m\u001b[1;34m\"\\n\\nAnswer B: \"\u001b[0m\u001b[1;33m)\u001b[0m\u001b[1;33m\u001b[0m\u001b[1;33m\u001b[0m\u001b[0m\n",
      "\u001b[1;31mIndexError\u001b[0m: pop from empty list"
     ]
    }
   ],
   "source": [
    "start = time.perf_counter()  \n",
    "cargo = []\n",
    "stringinput = [[], [], [], [], [], [], [], [], []]\n",
    "for i in range(7, -1, -1):\n",
    "    index = [1, 5, 9, 13, 17, 21, 25, 29, 33]\n",
    "    for j in range(0, len(index)):\n",
    "        letters = inputstring[i][index[j]]\n",
    "        if letters != \" \":\n",
    "            stringinput[j].append(letters) \n",
    "cargo = stringinput\n",
    "cargob = stringinput.copy()\n",
    "print(id(cargo))\n",
    "for i in range(10, len(inputstring)):\n",
    "    number = re.findall('\\d{1,2}', inputstring[i])\n",
    "    count = int(number[0])\n",
    "    cargoFrom = int(number[1])-1\n",
    "    cargoTo = int(number[2])-1\n",
    "    while count>0:\n",
    "        cargo[cargoTo].append(cargo[cargoFrom][-1])\n",
    "        cargo[cargoFrom].pop(-1)\n",
    "        count = count - 1\n",
    "print(\"Answer A: \")\n",
    "for letters in cargo:\n",
    "    print(letters[-1])\n",
    "    \n",
    "print(id(cargob))\n",
    "#stringinput = [[], [], [], [], [], [], [], [], []]\n",
    "#for i in range(7, -1, -1):\n",
    "#    index = [1, 5, 9, 13, 17, 21, 25, 29, 33]\n",
    "#    for j in range(0, len(index)):\n",
    "#        letters = inputstring[i][index[j]]\n",
    "#        if letters != \" \":\n",
    "#            stringinput[j].append(letters) \n",
    "\n",
    "\n",
    "for i in range(10, len(inputstring)):\n",
    "    number = re.findall('\\d{1,2}', inputstring[i])\n",
    "    count = int(number[0])\n",
    "    cargoFrom = int(number[1])-1\n",
    "    cargoTo = int(number[2])-1\n",
    "    #print(count, cargoFrom, cargoTo)\n",
    "    valuesToPick = [*range(len(cargob[cargoFrom])-count, len(cargob[cargoFrom]))]\n",
    "    offset = 0\n",
    "    for j in valuesToPick:\n",
    "        cargob[cargoTo].append(cargob[cargoFrom][j])\n",
    "    for j in valuesToPick:\n",
    "        cargob[cargoFrom].pop(j-offset)\n",
    "        offset = offset +1\n",
    "print(\"\\n\\nAnswer B: \")\n",
    "for letters in cargob:\n",
    "    print(letters[-1])\n",
    "    \n",
    "end = time.perf_counter()\n",
    "print((end-start)*1000)"
   ]
  },
  {
   "cell_type": "code",
   "execution_count": 136,
   "metadata": {},
   "outputs": [
    {
     "name": "stdout",
     "output_type": "stream",
     "text": [
      "Answer A: \n",
      "C\n",
      "M\n",
      "Z\n",
      "\n",
      "\n",
      "Answer B: \n",
      "M\n",
      "C\n",
      "D\n"
     ]
    }
   ],
   "source": [
    "cargo = []\n",
    "stringinput = [[],[],[]]\n",
    "for i in range(2, -1, -1):\n",
    "    index = [1, 5, 9]\n",
    "    for j in range(0, len(index)):\n",
    "        letters = teststring[i][index[j]]\n",
    "        if letters != \" \":\n",
    "            stringinput[j].append(letters)\n",
    "cargo = stringinput\n",
    "\n",
    "for i in range(5, len(teststring)):\n",
    "    number = re.findall('\\d{1,2}', teststring[i])\n",
    "    count = int(number[0])\n",
    "    cargoFrom = int(number[1])-1\n",
    "    cargoTo = int(number[2])-1\n",
    "    #print(count, cargoFrom, cargoTo)\n",
    "    while count>0:\n",
    "        cargo[cargoTo].append(cargo[cargoFrom][-1])\n",
    "        cargo[cargoFrom].pop(-1)\n",
    "        count = count - 1\n",
    "print(\"Answer A: \")\n",
    "for letters in cargo:\n",
    "    print(letters[-1])\n",
    "    \n",
    "cargo = []\n",
    "stringinput = [[],[],[]]\n",
    "for i in range(2, -1, -1):\n",
    "    index = [1, 5, 9]\n",
    "    for j in range(0, len(index)):\n",
    "        letters = teststring[i][index[j]]\n",
    "        if letters != \" \":\n",
    "            stringinput[j].append(letters)\n",
    "cargo = stringinput\n",
    "\n",
    "for i in range(5, len(teststring)):\n",
    "    number = re.findall('\\d{1,2}', teststring[i])\n",
    "    count = int(number[0])\n",
    "    cargoFrom = int(number[1])-1\n",
    "    cargoTo = int(number[2])-1\n",
    "    #print(count, cargoFrom, cargoTo)\n",
    "    valuesToPick = [*range(len(cargo[cargoFrom])-count, len(cargo[cargoFrom]))]\n",
    "    offset = 0\n",
    "    for j in valuesToPick:\n",
    "        cargo[cargoTo].append(cargo[cargoFrom][j])\n",
    "    for j in valuesToPick:\n",
    "        cargo[cargoFrom].pop(j-offset)\n",
    "        offset = offset +1\n",
    "print(\"\\n\\nAnswer B: \")\n",
    "for letters in cargo:\n",
    "    print(letters[-1])\n"
   ]
  },
  {
   "cell_type": "code",
   "execution_count": null,
   "metadata": {},
   "outputs": [],
   "source": []
  }
 ],
 "metadata": {
  "kernelspec": {
   "display_name": "Python 3",
   "language": "python",
   "name": "python3"
  },
  "language_info": {
   "codemirror_mode": {
    "name": "ipython",
    "version": 3
   },
   "file_extension": ".py",
   "mimetype": "text/x-python",
   "name": "python",
   "nbconvert_exporter": "python",
   "pygments_lexer": "ipython3",
   "version": "3.7.4"
  }
 },
 "nbformat": 4,
 "nbformat_minor": 2
}

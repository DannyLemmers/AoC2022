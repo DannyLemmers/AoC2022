{
 "cells": [
  {
   "cell_type": "code",
   "execution_count": 9,
   "metadata": {},
   "outputs": [],
   "source": [
    "import time\n",
    "import re\n",
    "from copy import deepcopy\n",
    "\n",
    "inputstring = open('input.txt', 'r').read().splitlines()\n",
    "teststring = open('test.txt', 'r').read().splitlines()"
   ]
  },
  {
   "cell_type": "code",
   "execution_count": 198,
   "metadata": {},
   "outputs": [
    {
     "name": "stdout",
     "output_type": "stream",
     "text": [
      "3.5573999998632644\n"
     ]
    }
   ],
   "source": [
    "start = time.perf_counter()  \n",
    "\n",
    "stringinput = [[], [], [], [], [], [], [], [], []]\n",
    "for i in range(7, -1, -1):\n",
    "    index = [1, 5, 9, 13, 17, 21, 25, 29, 33]\n",
    "    for j in range(0, len(index)):\n",
    "        letters = inputstring[i][index[j]]\n",
    "        if letters != \" \":\n",
    "            stringinput[j].append(letters) \n",
    "cargo = deepcopy(stringinput)\n",
    "cargob = deepcopy(stringinput)\n",
    "for i in range(10, len(inputstring)):\n",
    "    number = re.findall('\\d{1,2}', inputstring[i])\n",
    "    count = int(number[0])\n",
    "    cargoFrom = int(number[1])-1\n",
    "    cargoTo = int(number[2])-1\n",
    "    valuesToPick = [*range(len(cargob[cargoFrom])-count, len(cargob[cargoFrom]))]\n",
    "    while count>0:\n",
    "        cargo[cargoTo].append(cargo[cargoFrom][-1])\n",
    "        cargo[cargoFrom].pop(-1)\n",
    "        count -= 1\n",
    "    offset = 0\n",
    "    for j in valuesToPick:\n",
    "        cargob[cargoTo].append(cargob[cargoFrom][j-offset])\n",
    "        cargob[cargoFrom].pop(j-offset)\n",
    "        offset = offset +1\n",
    "\n",
    "print(\"Answer A: \")\n",
    "for letters in cargo:\n",
    "    print(letters[-1])\n",
    "\n",
    "print(\"\\n\\nAnswer B: \")\n",
    "for letters in cargob:\n",
    "    print(letters[-1])\n",
    "    \n",
    "end = time.perf_counter()\n",
    "print((end-start)*1000)"
   ]
  },
  {
   "cell_type": "code",
   "execution_count": 11,
   "metadata": {},
   "outputs": [
    {
     "name": "stdout",
     "output_type": "stream",
     "text": [
      "Answer A: \n",
      "C\n",
      "M\n",
      "Z\n",
      "\n",
      "\n",
      "Answer B: \n",
      "M\n",
      "C\n",
      "D\n"
     ]
    }
   ],
   "source": [
    "cargo = []\n",
    "stringinput = [[],[],[]]\n",
    "for i in range(2, -1, -1):\n",
    "    index = [1, 5, 9]\n",
    "    for j in range(0, len(index)):\n",
    "        letters = teststring[i][index[j]]\n",
    "        if letters != \" \":\n",
    "            stringinput[j].append(letters)\n",
    "cargo = stringinput\n",
    "\n",
    "for i in range(5, len(teststring)):\n",
    "    number = re.findall('\\d{1,2}', teststring[i])\n",
    "    count = int(number[0])\n",
    "    cargoFrom = int(number[1])-1\n",
    "    cargoTo = int(number[2])-1\n",
    "    #print(count, cargoFrom, cargoTo)\n",
    "    while count>0:\n",
    "        cargo[cargoTo].append(cargo[cargoFrom][-1])\n",
    "        cargo[cargoFrom].pop(-1)\n",
    "        count = count - 1\n",
    "print(\"Answer A: \")\n",
    "for letters in cargo:\n",
    "    print(letters[-1])\n",
    "    \n",
    "cargo = []\n",
    "stringinput = [[],[],[]]\n",
    "for i in range(2, -1, -1):\n",
    "    index = [1, 5, 9]\n",
    "    for j in range(0, len(index)):\n",
    "        letters = teststring[i][index[j]]\n",
    "        if letters != \" \":\n",
    "            stringinput[j].append(letters)\n",
    "cargo = stringinput\n",
    "\n",
    "for i in range(5, len(teststring)):\n",
    "    number = re.findall('\\d{1,2}', teststring[i])\n",
    "    count = int(number[0])\n",
    "    cargoFrom = int(number[1])-1\n",
    "    cargoTo = int(number[2])-1\n",
    "    #print(count, cargoFrom, cargoTo)\n",
    "    valuesToPick = [*range(len(cargo[cargoFrom])-count, len(cargo[cargoFrom]))]\n",
    "    offset = 0\n",
    "    for j in valuesToPick:\n",
    "        cargo[cargoTo].append(cargo[cargoFrom][j])\n",
    "    for j in valuesToPick:\n",
    "        cargo[cargoFrom].pop(j-offset)\n",
    "        offset = offset +1\n",
    "print(\"\\n\\nAnswer B: \")\n",
    "for letters in cargo:\n",
    "    print(letters[-1])\n"
   ]
  },
  {
   "cell_type": "code",
   "execution_count": null,
   "metadata": {},
   "outputs": [],
   "source": []
  }
 ],
 "metadata": {
  "kernelspec": {
   "display_name": "Python 3",
   "language": "python",
   "name": "python3"
  },
  "language_info": {
   "codemirror_mode": {
    "name": "ipython",
    "version": 3
   },
   "file_extension": ".py",
   "mimetype": "text/x-python",
   "name": "python",
   "nbconvert_exporter": "python",
   "pygments_lexer": "ipython3",
   "version": "3.7.4"
  }
 },
 "nbformat": 4,
 "nbformat_minor": 2
}

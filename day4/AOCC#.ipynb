{
 "cells": [
  {
   "cell_type": "code",
   "execution_count": 67,
   "metadata": {},
   "outputs": [],
   "source": [
    "using System.Diagnostics;\n",
    "using System.Linq;\n",
    "using System.Text.RegularExpressions;\n",
    "\n",
    "string[] lines = System.IO.File.ReadAllLines(\"input.txt\");\n",
    "string[] test = System.IO.File.ReadAllLines(\"test.txt\");"
   ]
  },
  {
   "cell_type": "code",
   "execution_count": 107,
   "metadata": {},
   "outputs": [
    {
     "name": "stdout",
     "output_type": "stream",
     "text": [
      "534\n",
      "841\n",
      "5.7163\n"
     ]
    }
   ],
   "source": [
    "Stopwatch stopwatch = Stopwatch.StartNew();\n",
    "\n",
    "int contained = 0;\n",
    "int overlap = 0;\n",
    "\n",
    "Regex rg  = new Regex(@\"\\d{1,2}\");\n",
    "foreach (string lines in lines){\n",
    "    MatchCollection numbers =  rg.Matches(lines);\n",
    "    IEnumerable<int> elf1 = Enumerable.Range(int.Parse(numbers[0].Value), int.Parse(numbers[1].Value)-int.Parse(numbers[0].Value)+1).ToArray(); \n",
    "    IEnumerable<int> elf2 = Enumerable.Range(int.Parse(numbers[2].Value), int.Parse(numbers[3].Value)-int.Parse(numbers[2].Value)+1).ToArray(); \n",
    "    var number = elf1.Intersect(elf2).Count();\n",
    "    if (number == elf1.Count() | number == elf2.Count()){\n",
    "        contained++;\n",
    "    }\n",
    "    if (number>0){\n",
    "    overlap++;\n",
    "    }    \n",
    "}\n",
    "Console.WriteLine(contained);\n",
    "Console.WriteLine(overlap);\n",
    "\n",
    "stopwatch.Stop();\n",
    "Console.WriteLine(stopwatch.Elapsed.TotalMilliseconds);\n"
   ]
  },
  {
   "cell_type": "code",
   "execution_count": 109,
   "metadata": {},
   "outputs": [
    {
     "name": "stdout",
     "output_type": "stream",
     "text": [
      "534\n",
      "841\n",
      "2.8456\n"
     ]
    }
   ],
   "source": [
    "Stopwatch stopwatch = Stopwatch.StartNew();\n",
    "\n",
    "int contained = 0;\n",
    "int overlap = 0;\n",
    "\n",
    "Regex rg  = new Regex(@\"\\d{1,2}\");\n",
    "foreach (string lines in lines){\n",
    "    MatchCollection numbers =  rg.Matches(lines);\n",
    "    IEnumerable<int> elf1 = Enumerable.Range(int.Parse(numbers[0].Value), int.Parse(numbers[1].Value)-int.Parse(numbers[0].Value)+1).ToArray(); \n",
    "    IEnumerable<int> elf2 = Enumerable.Range(int.Parse(numbers[2].Value), int.Parse(numbers[3].Value)-int.Parse(numbers[2].Value)+1).ToArray(); \n",
    "    if ( elf2.All(elem => elf1.Contains(elem)) |  elf1.All(elem => elf2.Contains(elem))){\n",
    "        contained++;\n",
    "    }\n",
    "    if (elf1.Intersect(elf2).Count()>0){\n",
    "        overlap++;\n",
    "    }    \n",
    "\n",
    "\n",
    "}\n",
    "Console.WriteLine(contained);\n",
    "Console.WriteLine(overlap);\n",
    "\n",
    "stopwatch.Stop();\n",
    "Console.WriteLine(stopwatch.Elapsed.TotalMilliseconds);\n"
   ]
  },
  {
   "cell_type": "code",
   "execution_count": null,
   "metadata": {},
   "outputs": [],
   "source": []
  }
 ],
 "metadata": {
  "kernelspec": {
   "display_name": ".NET (C#)",
   "language": "C#",
   "name": ".net-csharp"
  },
  "language_info": {
   "file_extension": ".cs",
   "mimetype": "text/x-csharp",
   "name": "C#",
   "pygments_lexer": "csharp",
   "version": "10.0"
  }
 },
 "nbformat": 4,
 "nbformat_minor": 2
}

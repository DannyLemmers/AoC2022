{
 "cells": [
  {
   "cell_type": "code",
   "execution_count": 96,
   "metadata": {},
   "outputs": [],
   "source": [
    "import time\n",
    "import re\n",
    "inputstring = open('input.txt', 'r').read().splitlines()\n",
    "teststring = open('test.txt', 'r').read().splitlines()"
   ]
  },
  {
   "cell_type": "code",
   "execution_count": 134,
   "metadata": {},
   "outputs": [
    {
     "name": "stdout",
     "output_type": "stream",
     "text": [
      "534\n",
      "841\n",
      "11.815399999250076\n"
     ]
    }
   ],
   "source": [
    "start = time.perf_counter()    \n",
    "contained = 0\n",
    "overlap = 0\n",
    "for lines in inputstring:\n",
    "    number = re.findall('\\d{1,2}', lines)\n",
    "    elf1 = [*range(int(number[0]), int(number[1])+1, 1)]\n",
    "    elf2 = [*range(int(number[2]), int(number[3])+1, 1)]\n",
    "    if len((set(elf1) & set(elf2))) == len(elf1) or  len((set(elf1) & set(elf2))) == len(elf2):\n",
    "        contained += 1\n",
    "    if (set(elf1) & set(elf2)):\n",
    "        overlap += 1\n",
    "print(contained)\n",
    "print(overlap)\n",
    "\n",
    "end = time.perf_counter()\n",
    "print((end-start)*1000)"
   ]
  },
  {
   "cell_type": "code",
   "execution_count": 135,
   "metadata": {},
   "outputs": [
    {
     "name": "stdout",
     "output_type": "stream",
     "text": [
      "534\n",
      "841\n",
      "8.390099999814993\n"
     ]
    }
   ],
   "source": [
    "start = time.perf_counter()    \n",
    "contained = 0\n",
    "overlap = 0\n",
    "for lines in inputstring:\n",
    "    number = re.findall('\\d{1,2}', lines)\n",
    "    elf1 = {*range(int(number[0]), int(number[1])+1, 1)}\n",
    "    elf2 = {*range(int(number[2]), int(number[3])+1, 1)}\n",
    "    if elf1.issubset(elf2) or elf2.issubset(elf1):\n",
    "        contained += 1\n",
    "    if (set(elf1) & set(elf2)):\n",
    "        overlap += 1\n",
    "print(contained)\n",
    "print(overlap)\n",
    "\n",
    "end = time.perf_counter()\n",
    "print((end-start)*1000)"
   ]
  },
  {
   "cell_type": "code",
   "execution_count": null,
   "metadata": {},
   "outputs": [],
   "source": []
  }
 ],
 "metadata": {
  "kernelspec": {
   "display_name": "Python 3",
   "language": "python",
   "name": "python3"
  },
  "language_info": {
   "codemirror_mode": {
    "name": "ipython",
    "version": 3
   },
   "file_extension": ".py",
   "mimetype": "text/x-python",
   "name": "python",
   "nbconvert_exporter": "python",
   "pygments_lexer": "ipython3",
   "version": "3.7.4"
  }
 },
 "nbformat": 4,
 "nbformat_minor": 2
}
